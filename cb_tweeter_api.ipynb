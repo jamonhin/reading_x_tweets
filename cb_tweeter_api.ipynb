{
 "cells": [
  {
   "cell_type": "code",
   "execution_count": 1,
   "metadata": {},
   "outputs": [],
   "source": [
    "import requests\n",
    "import pandas as pd\n",
    "import re\n",
    "from collections import Counter"
   ]
  },
  {
   "cell_type": "code",
   "execution_count": 3,
   "metadata": {},
   "outputs": [
    {
     "name": "stdout",
     "output_type": "stream",
     "text": [
      "Collecting tweepy\n",
      "  Obtaining dependency information for tweepy from https://files.pythonhosted.org/packages/4d/78/ba0065d5636bbf4a35b78c4f81b74e7858b609cdf69e629d6da5c91b9d92/tweepy-4.14.0-py3-none-any.whl.metadata\n",
      "  Downloading tweepy-4.14.0-py3-none-any.whl.metadata (3.8 kB)\n",
      "Requirement already satisfied: oauthlib<4,>=3.2.0 in /Users/jamesmontoya/miniconda3/envs/tensorflow/lib/python3.10/site-packages (from tweepy) (3.2.2)\n",
      "Requirement already satisfied: requests<3,>=2.27.0 in /Users/jamesmontoya/miniconda3/envs/tensorflow/lib/python3.10/site-packages (from tweepy) (2.31.0)\n",
      "Requirement already satisfied: requests-oauthlib<2,>=1.2.0 in /Users/jamesmontoya/miniconda3/envs/tensorflow/lib/python3.10/site-packages (from tweepy) (1.3.1)\n",
      "Requirement already satisfied: charset-normalizer<4,>=2 in /Users/jamesmontoya/miniconda3/envs/tensorflow/lib/python3.10/site-packages (from requests<3,>=2.27.0->tweepy) (3.2.0)\n",
      "Requirement already satisfied: idna<4,>=2.5 in /Users/jamesmontoya/miniconda3/envs/tensorflow/lib/python3.10/site-packages (from requests<3,>=2.27.0->tweepy) (3.4)\n",
      "Requirement already satisfied: urllib3<3,>=1.21.1 in /Users/jamesmontoya/miniconda3/envs/tensorflow/lib/python3.10/site-packages (from requests<3,>=2.27.0->tweepy) (1.26.15)\n",
      "Requirement already satisfied: certifi>=2017.4.17 in /Users/jamesmontoya/miniconda3/envs/tensorflow/lib/python3.10/site-packages (from requests<3,>=2.27.0->tweepy) (2023.7.22)\n",
      "Downloading tweepy-4.14.0-py3-none-any.whl (98 kB)\n",
      "\u001b[2K   \u001b[90m━━━━━━━━━━━━━━━━━━━━━━━━━━━━━━━━━━━━━━━━\u001b[0m \u001b[32m98.5/98.5 kB\u001b[0m \u001b[31m5.0 MB/s\u001b[0m eta \u001b[36m0:00:00\u001b[0m\n",
      "\u001b[?25hInstalling collected packages: tweepy\n",
      "Successfully installed tweepy-4.14.0\n"
     ]
    }
   ],
   "source": [
    "!pip install tweepy"
   ]
  },
  {
   "cell_type": "code",
   "execution_count": 8,
   "metadata": {},
   "outputs": [
    {
     "name": "stdout",
     "output_type": "stream",
     "text": [
      "              Tweet ID                Created At  \\\n",
      "0  1861935625748074999 2024-11-28 00:50:20+00:00   \n",
      "1  1861935623541834200 2024-11-28 00:50:20+00:00   \n",
      "2  1861935620643598825 2024-11-28 00:50:19+00:00   \n",
      "3  1859429881152717046 2024-11-21 02:53:24+00:00   \n",
      "4  1859429878501867559 2024-11-21 02:53:24+00:00   \n",
      "5  1852126239265525831 2024-10-31 23:11:20+00:00   \n",
      "6  1847527465272692778 2024-10-19 06:37:27+00:00   \n",
      "7  1847527462684491836 2024-10-19 06:37:27+00:00   \n",
      "8  1847527459908178252 2024-10-19 06:37:26+00:00   \n",
      "9  1847527457643253948 2024-10-19 06:37:25+00:00   \n",
      "\n",
      "                                                Text  Likes  Retweets  Replies  \n",
      "0  - 40% reduction in call centre wait times help...      0         0       16  \n",
      "1  - 50% reduction in customer scam losses, aided...      4         1       55  \n",
      "2  We’re taking the next steps in reimagining ban...      7         0       26  \n",
      "3  Congratulations to the CommBank @paramatildas ...      1         0        2  \n",
      "4  Australia, say hello to your newest world cham...     20         1        7  \n",
      "5  We’re providing Emergency Assistance to our cu...      6         0       14  \n",
      "6  We encourage customers to be aware of increase...      9         2       12  \n",
      "7  Customers do not need to contact us to request...      9         3       11  \n",
      "8  We have also now resolved an earlier issue whe...     22         7       84  \n",
      "9  UPDATE: 5:30pm AEDT\\n\\nThe intermittent issues...     91        17       31  \n",
      "The latest posts have been saved to 'commbank_latest_posts.csv'.\n"
     ]
    }
   ],
   "source": [
    "import tweepy\n",
    "\n",
    "\n",
    "# Step 1: Set up API credentials\n",
    "API_KEY = \"AgP3ADxzyvkR4VMyCzWsv7SF8\"\n",
    "API_SECRET_KEY = \"g92O71TR5BrQQd17CPKY3RirzKq9Ust8oN5BZFTD2UNpGE4AaS\"\n",
    "ACCESS_TOKEN = \"22597086-LIISequzFAtSKjdENuCTxeJ7r9pBODW5eQGPDyGhv\"\n",
    "ACCESS_TOKEN_SECRET = \"wi4Nx0gM7V3uRWcdSx98n0p3uJq33CegUVzKwDrlUXbrv\"\n",
    "BEARER_TOKEN = \"AAAAAAAAAAAAAAAAAAAAADZfxgEAAAAAGuCtaOd38XGShmiov4aBQ0vvcIw%3DhQoW9EG8kCixPtR8fLbWNN3SuKgWNGcwwtvJaWaJVaIuOJMql4\"\n",
    "\n",
    "# Step 2: Authenticate with X (formerly Twitter) API v2\n",
    "client = tweepy.Client(bearer_token=BEARER_TOKEN, \n",
    "                       consumer_key=API_KEY, \n",
    "                       consumer_secret=API_SECRET_KEY,\n",
    "                       access_token=ACCESS_TOKEN,\n",
    "                       access_token_secret=ACCESS_TOKEN_SECRET)\n",
    "\n",
    "# Step 3: Fetch the latest X posts (tweets) from a specific account\n",
    "def fetch_latest_posts(username, max_results=10):\n",
    "    \"\"\"\n",
    "    Fetches the latest posts from the specified account using Twitter API v2.\n",
    "\n",
    "    Parameters:\n",
    "        username (str): The handle of the X account (e.g., \"CommBank\").\n",
    "        max_results (int): Number of latest posts to fetch (up to 100).\n",
    "\n",
    "    Returns:\n",
    "        DataFrame: A DataFrame containing the tweet details.\n",
    "    \"\"\"\n",
    "    # Fetch user ID using the username\n",
    "    user = client.get_user(username=username, user_fields=[\"id\"])\n",
    "    user_id = user.data.id  # Extract user ID\n",
    "\n",
    "    # Fetch tweets from the user timeline\n",
    "    response = client.get_users_tweets(\n",
    "        id=user_id,\n",
    "        max_results=max_results,  # Number of posts to fetch\n",
    "        tweet_fields=[\"created_at\", \"public_metrics\", \"text\"],  # Fields to retrieve\n",
    "        exclude=\"retweets,replies\"  # Optional: Exclude retweets and replies\n",
    "    )\n",
    "\n",
    "    # Process the response\n",
    "    tweet_data = []\n",
    "    if response.data:\n",
    "        for tweet in response.data:\n",
    "            tweet_data.append({\n",
    "                \"Tweet ID\": tweet.id,\n",
    "                \"Created At\": tweet.created_at,\n",
    "                \"Text\": tweet.text,\n",
    "                \"Likes\": tweet.public_metrics[\"like_count\"],\n",
    "                \"Retweets\": tweet.public_metrics[\"retweet_count\"],\n",
    "                \"Replies\": tweet.public_metrics[\"reply_count\"]\n",
    "            })\n",
    "\n",
    "    # Convert to DataFrame\n",
    "    df = pd.DataFrame(tweet_data)\n",
    "    return df\n",
    "\n",
    "# Step 4: Fetch and display the last X posts\n",
    "username = \"CommBank\"  # The target account (without '@')\n",
    "number_of_posts = 10    # Number of posts to fetch (e.g., 5)\n",
    "\n",
    "latest_posts_df = fetch_latest_posts(username, max_results=number_of_posts)\n",
    "\n",
    "# Step 5: Display or save the result\n",
    "if not latest_posts_df.empty:\n",
    "    print(latest_posts_df)\n",
    "    latest_posts_df.to_csv(\"commbank_latest_posts.csv\", index=False)\n",
    "    print(\"The latest posts have been saved to 'commbank_latest_posts.csv'.\")\n",
    "else:\n",
    "    print(f\"No posts were found for the account @{username}.\")"
   ]
  },
  {
   "cell_type": "code",
   "execution_count": null,
   "metadata": {},
   "outputs": [],
   "source": []
  }
 ],
 "metadata": {
  "kernelspec": {
   "display_name": "Python 3.10 (tensorflow)",
   "language": "python",
   "name": "tensorflow"
  },
  "language_info": {
   "codemirror_mode": {
    "name": "ipython",
    "version": 3
   },
   "file_extension": ".py",
   "mimetype": "text/x-python",
   "name": "python",
   "nbconvert_exporter": "python",
   "pygments_lexer": "ipython3",
   "version": "3.10.12"
  }
 },
 "nbformat": 4,
 "nbformat_minor": 2
}
